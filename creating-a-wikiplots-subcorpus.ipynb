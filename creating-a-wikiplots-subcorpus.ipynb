{
 "cells": [
  {
   "cell_type": "markdown",
   "metadata": {},
   "source": [
    "# Creating a WikiPlots subcorpus\n",
    "\n",
    "By [Allison Parrish](https://github.com/markriedl/WikiPlots)\n",
    "\n",
    "Mark Riedl's [WikiPlots corpus](https://github.com/markriedl/WikiPlots) has the titles and plot summaries of more than one hundred thousand movies, books, television shows and other media from Wikipedia. That's a lot! This notebook has some sample code to trim it down a little bit. In particular, it shows how to get just a list of plots for Romantic Comedies.\n",
    "\n",
    "## Wikidata\n",
    "\n",
    "[Wikidata](https://www.wikidata.org/wiki/Wikidata:Main_Page) is a collection of structured data that (among other things) provides a formal canonical interface to metadata for Wikipedia articles. It has a [query service](https://query.wikidata.org/) that lets you write query (in a language called [SPARQL](https://en.wikipedia.org/wiki/SPARQL)) to find items in the database with particular characteristics. If you don't know SPARQL, no worries—there's an interface to help you build your query visually. I used it to create [this query for Wikidata items with a 'genre' of 'Romantic Comedy'](https://query.wikidata.org/#SELECT%20%3Fgenre%20%3Ftitle%20WHERE%20%7B%0A%20%20SERVICE%20wikibase%3Alabel%20%7B%20bd%3AserviceParam%20wikibase%3Alanguage%20%22%5BAUTO_LANGUAGE%5D%2Cen%22.%20%7D%0A%20%20%3Fgenre%20wdt%3AP136%20wd%3AQ860626.%0A%20%20OPTIONAL%20%7B%20%3Fgenre%20wdt%3AP1476%20%3Ftitle.%20%7D%0A%7D). You can probably futz around to get the query to give you a list of your choosing. ([Here's a query for science fiction films, for example.](https://query.wikidata.org/#SELECT%20%3Fgenre%20%3Ftitle%20WHERE%20%7B%0A%20%20SERVICE%20wikibase%3Alabel%20%7B%20bd%3AserviceParam%20wikibase%3Alanguage%20%22%5BAUTO_LANGUAGE%5D%2Cen%22.%20%7D%0A%20%20%3Fgenre%20wdt%3AP136%20wd%3AQ471839.%0A%20%20OPTIONAL%20%7B%20%3Fgenre%20wdt%3AP1476%20%3Ftitle.%20%7D%0A%20%20%0A%20%20%0A%20%20%0A%20%20OPTIONAL%20%7B%20%20%7D%0A%7D)). Use the \"Download\" link near the results preview at the bottom of the page and download to TSV format and put it in the same directory as this notebook. The following cell will read in the titles (make sure to replace `romcoms.tsv` with the name of your TSV file)."
   ]
  },
  {
   "cell_type": "code",
   "execution_count": 5,
   "metadata": {},
   "outputs": [],
   "source": [
    "romcom_titles = [item.split(\"\\t\")[1].strip() for item in open(\"romcoms.tsv\").readlines() if len(item.strip()) > 0]"
   ]
  },
  {
   "cell_type": "markdown",
   "metadata": {},
   "source": [
    "Take a look at the first twenty just to make sure that it worked:"
   ]
  },
  {
   "cell_type": "code",
   "execution_count": 23,
   "metadata": {},
   "outputs": [
    {
     "data": {
      "text/plain": [
       "['title',\n",
       " 'Punch-Drunk Love',\n",
       " 'Love and Other Disasters',\n",
       " 'The Boob',\n",
       " '',\n",
       " 'Here Comes Mr. Jordan',\n",
       " \"Something's Gotta Give\",\n",
       " 'Fools Rush In',\n",
       " 'April in Paris',\n",
       " 'Ice Princess',\n",
       " 'Bandits',\n",
       " 'My Favorite Wife',\n",
       " 'Ninotchka',\n",
       " 'Wild Child',\n",
       " 'All About Steve',\n",
       " 'The Bachelor',\n",
       " 'The Wedding Planner',\n",
       " 'Hope Springs',\n",
       " 'Nutty Professor II: The Klumps',\n",
       " '¡Átame!']"
      ]
     },
     "execution_count": 23,
     "metadata": {},
     "output_type": "execute_result"
    }
   ],
   "source": [
    "romcom_titles[:20]"
   ]
  },
  {
   "cell_type": "markdown",
   "metadata": {},
   "source": [
    "The primary thing we'll be doing with this list is to check to see if a given string is present in it, so for the sake of speed I'm going to put it into a set."
   ]
  },
  {
   "cell_type": "code",
   "execution_count": 42,
   "metadata": {},
   "outputs": [],
   "source": [
    "romcom_lookup = set(romcom_titles)"
   ]
  },
  {
   "cell_type": "markdown",
   "metadata": {},
   "source": [
    "Testing it out:"
   ]
  },
  {
   "cell_type": "code",
   "execution_count": 46,
   "metadata": {},
   "outputs": [
    {
     "data": {
      "text/plain": [
       "True"
      ]
     },
     "execution_count": 46,
     "metadata": {},
     "output_type": "execute_result"
    }
   ],
   "source": [
    "'When Harry Met Sally' in romcom_lookup"
   ]
  },
  {
   "cell_type": "code",
   "execution_count": 47,
   "metadata": {},
   "outputs": [
    {
     "data": {
      "text/plain": [
       "False"
      ]
     },
     "execution_count": 47,
     "metadata": {},
     "output_type": "execute_result"
    }
   ],
   "source": [
    "'Koyaanisqatsi' in romcom_lookup"
   ]
  },
  {
   "cell_type": "markdown",
   "metadata": {},
   "source": [
    "## The WikiPlots corpus\n",
    "\n",
    "The WikiPlots corpus is provided as a ZIP file containing two files: `titles`, which has a list of titles, and `plots`, which contains the sentences from the plots on each line, with each plot separated by the string `<EOS>`. Our goal is to make a list of title/plot tuples, including only the plots for items whose titles are present in our list of Romantic Comedies.\n",
    "\n",
    "If you haven't already, [download the WikiPlots ZIP](https://www.dropbox.com/s/24pa44w7u7wvtma/plots.zip?dl=0) and put it in the same directory as this notebook.\n",
    "\n",
    "Thanks to Python's `zipfile` module, we don't even need to decompress the file to work with the data contained therein..."
   ]
  },
  {
   "cell_type": "code",
   "execution_count": 48,
   "metadata": {},
   "outputs": [],
   "source": [
    "import zipfile"
   ]
  },
  {
   "cell_type": "markdown",
   "metadata": {},
   "source": [
    "The following cell reads in the plots and the titles:"
   ]
  },
  {
   "cell_type": "code",
   "execution_count": 49,
   "metadata": {},
   "outputs": [
    {
     "name": "stdout",
     "output_type": "stream",
     "text": [
      "[<ZipInfo filename='plots' compress_type=deflate filemode='-rw-r--r--' external_attr=0x4000 file_size=233620829 compress_size=90451233>, <ZipInfo filename='titles' compress_type=deflate filemode='-rw-r--r--' external_attr=0x4000 file_size=2361879 compress_size=1050576>]\n"
     ]
    }
   ],
   "source": [
    "zf = zipfile.ZipFile(\"./plots.zip\")\n",
    "print(zf.infolist())\n",
    "plots_raw = zf.open(\"plots\").read().decode('utf8')\n",
    "titles_raw = zf.open(\"titles\").read().decode('utf8')"
   ]
  },
  {
   "cell_type": "markdown",
   "metadata": {},
   "source": [
    "And then this cell reads them into lists. The titles and plots are index-aligned, so the title at a given index `n` should correspond to the plot at the same index."
   ]
  },
  {
   "cell_type": "code",
   "execution_count": 50,
   "metadata": {},
   "outputs": [],
   "source": [
    "plots = [p.strip() for p in plots_raw.split(\"<EOS>\")]\n",
    "titles = titles_raw.split(\"\\n\")"
   ]
  },
  {
   "cell_type": "code",
   "execution_count": 51,
   "metadata": {},
   "outputs": [
    {
     "name": "stdout",
     "output_type": "stream",
     "text": [
      "Three Poplars in Plyushcikha\n",
      "From a village to Moscow comes a married woman and mother of two children Nyura to sell home-made ham.\n",
      "And the first person she meets is an intelligent taxi driver Sasha, who must pick her up to her in-law; her husband's sister, who lives near the cafe \"Three Poplars\" at Plyushcikha.\n",
      "This random meeting brings the strangers together and forces them to take a fresh look at their lives.\n",
      "But unfortunately a continuation of this connection does not develop.\n"
     ]
    }
   ],
   "source": [
    "import random\n",
    "rand_idx = random.randrange(len(plots))\n",
    "print(titles[rand_idx])\n",
    "print(plots[rand_idx])"
   ]
  },
  {
   "cell_type": "markdown",
   "metadata": {},
   "source": [
    "Wow nice! The following cell makes a list of title/plot pairs. The plots themselves come pre-separated into sentences (separated by newlines), so I'm taking this opportunity to turn them into a list. We'll end up with a data structure that looks like this:\n",
    "\n",
    "    [\n",
    "        (\"title of film\", [\"sentence 1\", \"sentence 2\", \"sentence 3\", \"sentence 4\", ...more sentences...]),\n",
    "        ... many more of these ...\n",
    "    ]"
   ]
  },
  {
   "cell_type": "code",
   "execution_count": 38,
   "metadata": {},
   "outputs": [],
   "source": [
    "romcoms = [(title, plot.split(\"\\n\")) for title, plot in zip(titles, plots) if title in romcom_lookup]"
   ]
  },
  {
   "cell_type": "markdown",
   "metadata": {},
   "source": [
    "In total, we have a bit over twelve hundred plot summaries. Note that due to potential miscategorization and mismatches between the Wikipedia page titles and the canonical title in Wikidata, this process has a lot of false positives and false negatives! We're not guaranteed to get every romantic comedy on Wikipedia, nor are we guaranteed to only have romantic comedies in the list. But it's good enough to get started."
   ]
  },
  {
   "cell_type": "code",
   "execution_count": 52,
   "metadata": {},
   "outputs": [
    {
     "data": {
      "text/plain": [
       "1209"
      ]
     },
     "execution_count": 52,
     "metadata": {},
     "output_type": "execute_result"
    }
   ],
   "source": [
    "len(romcoms)"
   ]
  },
  {
   "cell_type": "markdown",
   "metadata": {},
   "source": [
    "The following cell gives a random title/plot:"
   ]
  },
  {
   "cell_type": "code",
   "execution_count": 64,
   "metadata": {},
   "outputs": [
    {
     "data": {
      "text/plain": [
       "('The Lords of Flatbush',\n",
       " ['Set in 1958, the coming-of-age story follows four Brooklyn teenagers known as The Lords of Flatbush.',\n",
       "  'The Lords chase girls, steal cars, play pool and hang out at a local malt shop.',\n",
       "  'The film focuses on Chico (Perry King) attempting to win over Jane (Susan Blakely), a girl who wants little to do with him, and Stanley (Sylvester Stallone), who impregnates his girlfriend, Frannie (Maria Smith), who pressures him to marry her.',\n",
       "  'Stanley agrees to marry her, even after finding out before the wedding that Frannie never was pregnant.',\n",
       "  'Butchey Weinstein (Henry Winkler) is highly intelligent but hides his brains behind a clownish front, while Wimpy Murgalo (Paul Mace) is a colorless follower in awe of Chico and Stanley.'])"
      ]
     },
     "execution_count": 64,
     "metadata": {},
     "output_type": "execute_result"
    }
   ],
   "source": [
    "random.choice(romcoms)"
   ]
  },
  {
   "cell_type": "markdown",
   "metadata": {},
   "source": [
    "For ease of use, I'm going to export this in TSV format, with one line per sentence, which also has the movie title for each sentence, the sentence's index, and the total number of sentences in that movie."
   ]
  },
  {
   "cell_type": "code",
   "execution_count": 75,
   "metadata": {},
   "outputs": [],
   "source": [
    "with open(\"romcom_plot_sentences.tsv\", \"w\") as fh:\n",
    "    for title, sentences in romcoms:\n",
    "        if len(title) == 0:\n",
    "            continue\n",
    "        total = len(sentences)\n",
    "        for i, sent in enumerate(sentences):\n",
    "            print(\"\\t\".join([title, str(i), str(total), sent]), file=fh)"
   ]
  }
 ],
 "metadata": {
  "kernelspec": {
   "display_name": "Python 3",
   "language": "python",
   "name": "python3"
  },
  "language_info": {
   "codemirror_mode": {
    "name": "ipython",
    "version": 3
   },
   "file_extension": ".py",
   "mimetype": "text/x-python",
   "name": "python",
   "nbconvert_exporter": "python",
   "pygments_lexer": "ipython3",
   "version": "3.6.5"
  }
 },
 "nbformat": 4,
 "nbformat_minor": 2
}
