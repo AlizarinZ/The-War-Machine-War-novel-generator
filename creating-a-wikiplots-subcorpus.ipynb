{
 "cells": [
  {
   "cell_type": "markdown",
   "metadata": {},
   "source": [
    "# Creating a WikiPlots subcorpus\n",
    "\n",
    "By [Allison Parrish](https://github.com/markriedl/WikiPlots)\n",
    "\n",
    "Mark Riedl's [WikiPlots corpus](https://github.com/markriedl/WikiPlots) has the titles and plot summaries of more than one hundred thousand movies, books, television shows and other media from Wikipedia. That's a lot! This notebook has some sample code to trim it down a little bit. In particular, it shows how to get just a list of plots for Romantic Comedies.\n",
    "\n",
    "## Wikidata\n",
    "\n",
    "[Wikidata](https://www.wikidata.org/wiki/Wikidata:Main_Page) is a collection of structured data that (among other things) provides a formal canonical interface to metadata for Wikipedia articles. It has a [query service](https://query.wikidata.org/) that lets you write query (in a language called [SPARQL](https://en.wikipedia.org/wiki/SPARQL)) to find items in the database with particular characteristics. If you don't know SPARQL, no worries—there's an interface to help you build your query visually. (Make sure to expand the \"Query Helper\" on the left-hand side.) I used it to create [this query for Wikidata items with a 'genre' of 'Romantic Comedy'](https://query.wikidata.org/#SELECT%20%3Fgenre%20%3Ftitle%20WHERE%20%7B%0A%20%20SERVICE%20wikibase%3Alabel%20%7B%20bd%3AserviceParam%20wikibase%3Alanguage%20%22%5BAUTO_LANGUAGE%5D%2Cen%22.%20%7D%0A%20%20%3Fgenre%20wdt%3AP136%20wd%3AQ860626.%0A%20%20OPTIONAL%20%7B%20%3Fgenre%20wdt%3AP1476%20%3Ftitle.%20%7D%0A%7D). You can probably futz around to get the query to give you a list of your choosing. ([Here's a query for science fiction films, for example.](https://query.wikidata.org/#SELECT%20%3Fgenre%20%3Ftitle%20WHERE%20%7B%0A%20%20SERVICE%20wikibase%3Alabel%20%7B%20bd%3AserviceParam%20wikibase%3Alanguage%20%22%5BAUTO_LANGUAGE%5D%2Cen%22.%20%7D%0A%20%20%3Fgenre%20wdt%3AP136%20wd%3AQ471839.%0A%20%20OPTIONAL%20%7B%20%3Fgenre%20wdt%3AP1476%20%3Ftitle.%20%7D%0A%20%20%0A%20%20%0A%20%20%0A%20%20OPTIONAL%20%7B%20%20%7D%0A%7D)). Use the \"Download\" link near the results preview at the bottom of the page and download to TSV format and put it in the same directory as this notebook. The following cell will read in the titles (make sure to replace `romcoms.tsv` with the name of your TSV file)."
   ]
  },
  {
   "cell_type": "code",
   "execution_count": 2,
   "metadata": {},
   "outputs": [],
   "source": [
    "romcom_titles = [item.split(\"\\t\")[1].strip() for item in open(\"romcoms.tsv\").readlines() if len(item.strip()) > 0]"
   ]
  },
  {
   "cell_type": "markdown",
   "metadata": {},
   "source": [
    "Take a look at the first twenty just to make sure that it worked:"
   ]
  },
  {
   "cell_type": "code",
   "execution_count": 3,
   "metadata": {},
   "outputs": [
    {
     "data": {
      "text/plain": [
       "['title',\n",
       " 'Prelude to a Kiss',\n",
       " 'Practical Magic',\n",
       " 'The Oranges',\n",
       " 'I Want to Marry Ryan Banks',\n",
       " 'Gotcha!',\n",
       " 'Pang! Pang! Du är död!',\n",
       " 'The Sisterhood of the Traveling Pants 2',\n",
       " '',\n",
       " 'Birthday Girl',\n",
       " \"National Lampoon's Van Wilder\",\n",
       " 'La tigre e la neve',\n",
       " 'Rio Rita',\n",
       " 'American Beauty',\n",
       " 'உனக்காக எல்லாம் உனக்காக',\n",
       " 'போடா போடி',\n",
       " 'Warm Bodies',\n",
       " 'To Rome with Love',\n",
       " 'The Broken Hearts Club: A Romantic Comedy',\n",
       " 'Life or Something Like It']"
      ]
     },
     "execution_count": 3,
     "metadata": {},
     "output_type": "execute_result"
    }
   ],
   "source": [
    "romcom_titles[:20]"
   ]
  },
  {
   "cell_type": "markdown",
   "metadata": {},
   "source": [
    "The primary thing we'll be doing with this list is to check to see if a given string is present in it, so for the sake of speed I'm going to put it into a set."
   ]
  },
  {
   "cell_type": "code",
   "execution_count": 4,
   "metadata": {},
   "outputs": [],
   "source": [
    "romcom_lookup = set(romcom_titles)"
   ]
  },
  {
   "cell_type": "markdown",
   "metadata": {},
   "source": [
    "Testing it out:"
   ]
  },
  {
   "cell_type": "code",
   "execution_count": 5,
   "metadata": {},
   "outputs": [
    {
     "data": {
      "text/plain": [
       "True"
      ]
     },
     "execution_count": 5,
     "metadata": {},
     "output_type": "execute_result"
    }
   ],
   "source": [
    "'When Harry Met Sally' in romcom_lookup"
   ]
  },
  {
   "cell_type": "code",
   "execution_count": 6,
   "metadata": {},
   "outputs": [
    {
     "data": {
      "text/plain": [
       "False"
      ]
     },
     "execution_count": 6,
     "metadata": {},
     "output_type": "execute_result"
    }
   ],
   "source": [
    "'Koyaanisqatsi' in romcom_lookup"
   ]
  },
  {
   "cell_type": "markdown",
   "metadata": {},
   "source": [
    "## The WikiPlots corpus\n",
    "\n",
    "The WikiPlots corpus is provided as a ZIP file containing two files: `titles`, which has a list of titles, and `plots`, which contains the sentences from the plots on each line, with each plot separated by the string `<EOS>`. Our goal is to make a list of title/plot tuples, including only the plots for items whose titles are present in our list of Romantic Comedies.\n",
    "\n",
    "If you haven't already, [download the WikiPlots ZIP](https://www.dropbox.com/s/24pa44w7u7wvtma/plots.zip?dl=0) and put it in the same directory as this notebook. You can do this without leaving Jupyter Notebook by executing the following cell:"
   ]
  },
  {
   "cell_type": "code",
   "execution_count": null,
   "metadata": {},
   "outputs": [],
   "source": [
    "!curl -L -O https://www.dropbox.com/s/24pa44w7u7wvtma/plots.zip"
   ]
  },
  {
   "cell_type": "markdown",
   "metadata": {},
   "source": [
    "Thanks to Python's `zipfile` module, we don't even need to decompress the file to work with the data contained therein..."
   ]
  },
  {
   "cell_type": "code",
   "execution_count": 8,
   "metadata": {},
   "outputs": [],
   "source": [
    "import zipfile"
   ]
  },
  {
   "cell_type": "markdown",
   "metadata": {},
   "source": [
    "The following cell reads in the plots and the titles as two lists:"
   ]
  },
  {
   "cell_type": "code",
   "execution_count": 12,
   "metadata": {},
   "outputs": [
    {
     "name": "stdout",
     "output_type": "stream",
     "text": [
      "[<ZipInfo filename='plots' compress_type=deflate filemode='-rw-r--r--' external_attr=0x4000 file_size=233620829 compress_size=90451233>, <ZipInfo filename='titles' compress_type=deflate filemode='-rw-r--r--' external_attr=0x4000 file_size=2361879 compress_size=1050576>]\n"
     ]
    }
   ],
   "source": [
    "zf = zipfile.ZipFile(\"./plots.zip\")\n",
    "print(zf.infolist())\n",
    "plots = [p.strip() for p in zf.open(\"plots\").read().decode('utf8').split(\"<EOS>\")]\n",
    "titles = zf.open(\"titles\").read().decode('utf8').split(\"\\n\")"
   ]
  },
  {
   "cell_type": "markdown",
   "metadata": {},
   "source": [
    "The titles and plots are index-aligned, so the title at a given index `n` should correspond to the plot at the same index."
   ]
  },
  {
   "cell_type": "code",
   "execution_count": 13,
   "metadata": {},
   "outputs": [
    {
     "name": "stdout",
     "output_type": "stream",
     "text": [
      "Lejontämjaren\n",
      "Simon is 9 years old and at school he's mobbed by an 11-year-old boy and his gang.\n",
      "Simon dreams that he tames a lion which helps him with scaring the bad boy who Simon calls \"Kobran\" (\"The Cobra\").\n",
      "One night Simon sees a naked man with briefs on his head and hears his mother's laugh in the background.\n",
      "The next morning Karin tells Simon that she had a friend at home during the night.\n",
      "In school during the lunch time he tells his mate Tove about his mother and the \"briefs-man\" whose real name is Björn.\n",
      "At same time \"Kobran\" and his gang come to their table; he requests Simon to go and get milk and when Simon does it he spits in Simon's food.\n",
      "The other boys laugh but Tove is angry and throws her milk on \"Kobran\"'s face and she and Simon escapes into the headmaster's room.\n",
      "At the evening Björn comes to Simon's home and has a dinner with him and Karin.\n",
      "He tells that he has a son called Alex who is studying in Simon's school, but he doesn't know that Alex and \"Kobran\" is the same person.\n",
      "Björn behaves sillily and Simon goes away into his room, but Björn follows him.\n",
      "When he sees Simon's lion posters on the walls, he tells Simon that he has seen real lions in Africa.\n",
      "Then Simon becomes happy and asks if he can protect him well; he \"can't protect him from lions but from other things\".\n",
      "The next time Björn brings his son Alex to the dinner and then Simon understands that it's Alex who is \"Kobran\".\n",
      "First Alex is nice but later he is angry and attacks Simon and forces him to fix that it won't be any \"relationship\" between Björn and Karin.\n",
      "The next day Simon and Tove write a letter where they pretend that Karin wants to revoke the relationship with Björn, and Simon puts it in Björn's pocket when they meet, but Karin denies that she wrote it.\n",
      "Simon knows that Alex'll abuse him if he can't fix it.\n",
      "Alex and Björn move and live together with Simon and Karin.\n",
      "Tove wants Simon to tell Karin, but Simon doesn't want and then Tove have an idea; later they tell about Björn and Karin for Simon's grandmother, Karin's mother, and she tells Simon to follow Tove to her home so she alone can go home and talk to Karin.\n",
      "When Simon comes home at the evening, everything is fine, except that grandma is not welcome home in the future because \"she interferes Karin's private life\".\n",
      "Someone calls but there's no answer.\n",
      "Björn thinks it's Anna, Alex' mother who hasn't met her son.\n",
      "Björn goes to her home and tells her that Alex is angry to her and she must stop calling.\n",
      "A few days later at school \"Kobran\" and his gang attack Simon.\n",
      "Grandma sees that he has been abused and he lies and says that Björn did it.\n",
      "Then Karin is angry and forces Alex and Björn out from her home.\n",
      "The harassments are over, but Simon is sad and in the end he tells Karin that Alex did it, they go to Björn's home and Alex confesses.\n",
      "They move back to Karin's home.\n",
      "One evening Björn tries to fix a CD player and tells the boys to be careful with the electric wires of the CD player; \"they'll hurt if you touch them\".\n",
      "When Simon sleeps during the night, Alex sneaks into his room and hurts him with the wires so he screams, but when Björn and Karin come, Alex pretends sleeping.\n",
      "Björn, Alex and Simon go to a little fishing lodge and sleep there.\n",
      "Alex is angry when he knows that Simon has got a lion tooth from Björn.\n",
      "The next morning when they wake up, Björn isn't there.\n",
      "Then Alex starts harassing Simon and destroys the lion tooth, and then Simon becomes angrily mad; he throws a chair in Alex' head and runs after him out to the forest.\n",
      "At home, Björn and Karin wanted to be in family but now they stop that idea.\n",
      "Simon tells Alex that he can't hate his mother for life and together they go to Anna's home.\n",
      "When they're back, Alex doesn't want to tell that they met his mother but Simon says that if they do it together it'll be fine.\n",
      "Here Simon goes to his lion and says \"Hejdå.\n",
      "Nu behöver jag inte dig längre\" (\"Goodbye.\n",
      "Now I don't need you more\".\n",
      ").\n"
     ]
    }
   ],
   "source": [
    "import random\n",
    "rand_idx = random.randrange(len(plots))\n",
    "print(titles[rand_idx])\n",
    "print(plots[rand_idx])"
   ]
  },
  {
   "cell_type": "markdown",
   "metadata": {},
   "source": [
    "Wow nice! The following cell makes a list of title/plot pairs. The plots themselves come pre-separated into sentences (separated by newlines), so I'm taking this opportunity to turn them into a list. We'll end up with a data structure that looks like this:\n",
    "\n",
    "    [\n",
    "        (\"title of film\", [\"sentence 1\", \"sentence 2\", \"sentence 3\", \"sentence 4\", ...more sentences...]),\n",
    "        ... many more of these ...\n",
    "    ]"
   ]
  },
  {
   "cell_type": "code",
   "execution_count": 14,
   "metadata": {},
   "outputs": [],
   "source": [
    "romcoms = [(title, plot.split(\"\\n\")) for title, plot in zip(titles, plots) if title in romcom_lookup]"
   ]
  },
  {
   "cell_type": "markdown",
   "metadata": {},
   "source": [
    "In total, we have a bit over twelve hundred plot summaries. Note that due to potential miscategorization and mismatches between the Wikipedia page titles and the canonical title in Wikidata, this process has a lot of false positives and false negatives! We're not guaranteed to get every romantic comedy on Wikipedia, nor are we guaranteed to only have romantic comedies in the list. But it's good enough to get started."
   ]
  },
  {
   "cell_type": "code",
   "execution_count": 15,
   "metadata": {},
   "outputs": [
    {
     "data": {
      "text/plain": [
       "1500"
      ]
     },
     "execution_count": 15,
     "metadata": {},
     "output_type": "execute_result"
    }
   ],
   "source": [
    "len(romcoms)"
   ]
  },
  {
   "cell_type": "markdown",
   "metadata": {},
   "source": [
    "The following cell gives a random title/plot:"
   ]
  },
  {
   "cell_type": "code",
   "execution_count": 18,
   "metadata": {},
   "outputs": [
    {
     "data": {
      "text/plain": [
       "('Bollywood Beats',\n",
       " ['Raj (Sachin Bhatt) is an Indian-American choreographer trying to make it in the bustling city of Los Angeles.',\n",
       "  \"After being dumped by his girlfriend, bombing another dance audition, and nearly getting kicked out of his parent's home, Raj's luck changes when he meets Jyoti, (Lilette Dubey), a sexy Indian woman, who suggests for him to teach her and a group of Indian women dance.\",\n",
       "  \"While unsuccessful at the start, Raj's class grows with Vincent, (Mehul Shah), a gay teen who wants to dance regardless of what his father thinks, Laxmi, (Pooja Kumar), a South Indian woman new to this country and friendless, Puja, (Mansi Patel) an unethusiastic high school student, who is being dragged by her grandmother, Vina (Sarita Joshi).\",\n",
       "  'Through it all, the group manages to find family, love, and acceptance where they least expected to.'])"
      ]
     },
     "execution_count": 18,
     "metadata": {},
     "output_type": "execute_result"
    }
   ],
   "source": [
    "random.choice(romcoms)"
   ]
  },
  {
   "cell_type": "markdown",
   "metadata": {},
   "source": [
    "For ease of use, I'm going to export this in TSV format, with one line per sentence, which also has the movie title for each sentence, the sentence's index, and the total number of sentences in that movie. I use this file in the other notebook in this repository to do [text analysis and generation](https://github.com/aparrish/corpus-driven-narrative-generation/blob/master/corpus-driven-narrative-generation.ipynb)."
   ]
  },
  {
   "cell_type": "code",
   "execution_count": 19,
   "metadata": {},
   "outputs": [],
   "source": [
    "with open(\"romcom_plot_sentences.tsv\", \"w\") as fh:\n",
    "    for title, sentences in romcoms:\n",
    "        if len(title) == 0:\n",
    "            continue\n",
    "        total = len(sentences)\n",
    "        for i, sent in enumerate(sentences):\n",
    "            print(\"\\t\".join([title, str(i), str(total), sent]), file=fh)"
   ]
  },
  {
   "cell_type": "markdown",
   "metadata": {},
   "source": [
    "You might be interested in having a plain text version of this data, in order to (e.g.) train a language model. The following cell exports one big text file, with one line per sentence:"
   ]
  },
  {
   "cell_type": "code",
   "execution_count": 20,
   "metadata": {},
   "outputs": [],
   "source": [
    "with open(\"romcom_export.txt\", \"w\") as fh:\n",
    "    for title, sentences in romcoms:\n",
    "        for sent in sentences:\n",
    "            fh.write(sent + \"\\n\")"
   ]
  },
  {
   "cell_type": "markdown",
   "metadata": {},
   "source": [
    "Enjoy!"
   ]
  }
 ],
 "metadata": {
  "kernelspec": {
   "display_name": "Python 3",
   "language": "python",
   "name": "python3"
  },
  "language_info": {
   "codemirror_mode": {
    "name": "ipython",
    "version": 3
   },
   "file_extension": ".py",
   "mimetype": "text/x-python",
   "name": "python",
   "nbconvert_exporter": "python",
   "pygments_lexer": "ipython3",
   "version": "3.6.8"
  }
 },
 "nbformat": 4,
 "nbformat_minor": 2
}
